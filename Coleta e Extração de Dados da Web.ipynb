{
 "cells": [
  {
   "cell_type": "markdown",
   "metadata": {},
   "source": [
    "### Coleta e Extração de Dados da Web\n",
    "\n",
    "Você já se viu na situação de ter que coletar dados da internet, apenas para depois ter que lidar com o incômodo de descompactá-los manualmente? Se sim, então este código pode te ajudar muito no dia a dia.\n",
    "\n",
    "\n",
    "\n",
    "<Center><h5><font>Fluxograma de Processamento de Dados</font></h5></center>\n",
    "\n",
    "<center>\n",
    "\n",
    "<img src=\"../diagramas/Extração Automática de Arquivos.png\" width=\"40%\">\n",
    "\n",
    "</center>\n",
    "\n",
    "\n",
    "\n",
    "<font color=\"yellow\">Requisitos</font>\n",
    "***\n",
    "Instalação da biblioteca Requests\n",
    "- Requests (pip install requests)"
   ]
  },
  {
   "cell_type": "code",
   "execution_count": 25,
   "metadata": {},
   "outputs": [
    {
     "name": "stdout",
     "output_type": "stream",
     "text": [
      "Requirement already satisfied: requests in c:\\users\\s657664232\\.virtualenvs\\downloads-g0jful-k\\lib\\site-packages (2.32.3)\n",
      "Requirement already satisfied: charset-normalizer<4,>=2 in c:\\users\\s657664232\\.virtualenvs\\downloads-g0jful-k\\lib\\site-packages (from requests) (3.3.2)\n",
      "Requirement already satisfied: idna<4,>=2.5 in c:\\users\\s657664232\\.virtualenvs\\downloads-g0jful-k\\lib\\site-packages (from requests) (3.7)\n",
      "Requirement already satisfied: urllib3<3,>=1.21.1 in c:\\users\\s657664232\\.virtualenvs\\downloads-g0jful-k\\lib\\site-packages (from requests) (2.2.2)\n",
      "Requirement already satisfied: certifi>=2017.4.17 in c:\\users\\s657664232\\.virtualenvs\\downloads-g0jful-k\\lib\\site-packages (from requests) (2024.6.2)\n",
      "Note: you may need to restart the kernel to use updated packages.\n"
     ]
    }
   ],
   "source": [
    "%pip install requests"
   ]
  },
  {
   "cell_type": "markdown",
   "metadata": {},
   "source": [
    "#### Importação das Bibliotecas"
   ]
  },
  {
   "cell_type": "code",
   "execution_count": 26,
   "metadata": {},
   "outputs": [],
   "source": [
    "from io import BytesIO\n",
    "import requests\n",
    "import zipfile\n",
    "import os"
   ]
  },
  {
   "cell_type": "markdown",
   "metadata": {},
   "source": [
    "#### Função que Coleta e extrai os arquivos de forma automática\n",
    "Esta função realiza o download de um arquivo da internet e extrai o conteúdo contido no arquivo zip. Ela aceita como entrada o URL do arquivo a ser baixado e o diretório de destino onde o conteúdo será extraído. Após o download e a extração bem-sucedidos, os arquivos resultantes estarão disponíveis no diretório especificado."
   ]
  },
  {
   "cell_type": "code",
   "execution_count": 27,
   "metadata": {},
   "outputs": [],
   "source": [
    "url = 'https://leandrolessa.com.br/wp-content/uploads/2024/04/processamento_licencas_medicas.zip'"
   ]
  },
  {
   "cell_type": "code",
   "execution_count": 28,
   "metadata": {},
   "outputs": [],
   "source": [
    "def baixar_extrair_arquivo_zip(url, diretorio_destino):\n",
    "    headers = {'User-Agent': 'Chrome'}\n",
    "\n",
    "    response = requests.get(url, headers=headers)\n",
    "\n",
    "    if response.status_code == requests.codes.OK:\n",
    "        nome_arquivo_zip = url.split('/')[-1]\n",
    "        caminho_arquivo_zip = os.path.join(diretorio_destino, nome_arquivo_zip)\n",
    "\n",
    "        with open(caminho_arquivo_zip, 'wb') as arquivo:\n",
    "            arquivo.write(response.content)\n",
    "        print(f'Download realizado com sucesso. Salvo em: {caminho_arquivo_zip}')\n",
    "\n",
    "        filebytes = BytesIO(response.content)\n",
    "\n",
    "        myzipfile = zipfile.ZipFile(filebytes)\n",
    "\n",
    "        print(f'Extraindo arquivo {nome_arquivo_zip}...')\n",
    "        myzipfile.extractall(diretorio_destino)\n",
    "        print(f'Arquivo extraído com sucesso. Salvo em: {diretorio_destino}')\n",
    "    else:\n",
    "        print(f'Erro ao realizar o download. Status code: {response.status_code}')"
   ]
  },
  {
   "cell_type": "markdown",
   "metadata": {},
   "source": [
    "#### Função que cria diretório destino \n",
    "Essa função tem como objetivo garantir a existência de um diretório de destino especificado. Caso o diretório ainda não exista, a função o cria."
   ]
  },
  {
   "cell_type": "code",
   "execution_count": 29,
   "metadata": {},
   "outputs": [],
   "source": [
    "def criar_diretorio(diretorio_destino):\n",
    "    if not os.path.exists(diretorio_destino):\n",
    "        os.makedirs(diretorio_destino)\n",
    "        print(f'Diretório {diretorio_destino} criado com sucesso.')\n",
    "    else:\n",
    "        print(f'Diretório {diretorio_destino} já existe.')"
   ]
  },
  {
   "cell_type": "markdown",
   "metadata": {},
   "source": [
    "#### Chamada das Funções\n",
    "***"
   ]
  },
  {
   "cell_type": "code",
   "execution_count": 30,
   "metadata": {},
   "outputs": [
    {
     "name": "stdout",
     "output_type": "stream",
     "text": [
      "Diretório ../datasets/licencas_medicas criado com sucesso.\n",
      "Download realizado com sucesso. Salvo em: ../datasets/licencas_medicas\\processamento_licencas_medicas.zip\n",
      "Extraindo arquivo processamento_licencas_medicas.zip...\n",
      "Arquivo extraído com sucesso. Salvo em: ../datasets/licencas_medicas\n"
     ]
    }
   ],
   "source": [
    "url = 'https://leandrolessa.com.br/wp-content/uploads/2024/04/processamento_licencas_medicas.zip'\n",
    "diretorio_destino = '../datasets/licencas_medicas'\n",
    "criar_diretorio(diretorio_destino)\n",
    "baixar_extrair_arquivo_zip(url, diretorio_destino)"
   ]
  },
  {
   "cell_type": "code",
   "execution_count": null,
   "metadata": {},
   "outputs": [],
   "source": []
  }
 ],
 "metadata": {
  "kernelspec": {
   "display_name": "Downloads-g0JFul-k",
   "language": "python",
   "name": "python3"
  },
  "language_info": {
   "codemirror_mode": {
    "name": "ipython",
    "version": 3
   },
   "file_extension": ".py",
   "mimetype": "text/x-python",
   "name": "python",
   "nbconvert_exporter": "python",
   "pygments_lexer": "ipython3",
   "version": "3.12.2"
  }
 },
 "nbformat": 4,
 "nbformat_minor": 2
}
